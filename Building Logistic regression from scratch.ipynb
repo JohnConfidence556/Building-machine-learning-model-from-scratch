{
 "cells": [
  {
   "cell_type": "markdown",
   "id": "ef785b72",
   "metadata": {},
   "source": [
    "Importing the Dependencies "
   ]
  },
  {
   "cell_type": "code",
   "execution_count": 1,
   "id": "e77cb6dc",
   "metadata": {},
   "outputs": [],
   "source": [
    "# Importing numpy library\n",
    "import numpy as np"
   ]
  },
  {
   "cell_type": "code",
   "execution_count": 5,
   "id": "e66a596e",
   "metadata": {},
   "outputs": [],
   "source": [
    "class Logistic_Regression():\n",
    "    \n",
    "    # declarinng learning rate and number of iteration\n",
    "    def __init__ (self, learning_rate, no_of_iterations):\n",
    "        \n",
    "        self.learning_rate = learning_rate\n",
    "        self.no_of_iterations = no_of_iterations\n",
    "        \n",
    "    # fit function to train the model with dataset\n",
    "    def fit(self, X, Y):\n",
    "        \n",
    "        # Number of datapoints in thr dataset (number of rows) --> m\n",
    "        # Number of input features in the dataset (number of columns) --> n\n",
    "        self.m, self.n = X.shape\n",
    "        \n",
    "        # initiating weight and bias value\n",
    "        \n",
    "        self.w = np.zeros(self.n)\n",
    "        self.b = 0\n",
    "        self.X = X\n",
    "        self.Y = Y\n",
    "        \n",
    "        # implementing gradient descent for optimization\n",
    "        \n",
    "        for i in range(self.no_of_interations):\n",
    "            self.update_weights()\n",
    "            \n",
    "    def update_weights(self):\n",
    "        # signoid formula\n",
    "        \n",
    "        Y_hat = 1 / (1 + np.exp( - (self.X.dot(self.w) + self.b ) ))\n",
    "        \n",
    "        # Derivatives\n",
    "        \n",
    "        dw = (1/self.m)*np.dot(self.X.T, (Y_hat - self.Y))\n",
    "        db = (1/self.m)*np.sum(Y_hat - self.Y)\n",
    "        \n",
    "        # updating the weight and bias using gradient descent\n",
    "        \n",
    "        self.w = self.w - self.learning_rate * dw\n",
    "        self.b = self.b - self.learning_rate * db\n",
    "        \n",
    "    # signoid equation and decision boundary\n",
    "    def predict(self, X):\n",
    "        \n",
    "        Y_pred = 1 / (1 + np.exp( - (self.X.dot(self.w) + self.b ) ))\n",
    "        Y_pred = np.where( Y_pred > 0.5, 1, 0)\n",
    "        return Y_pred\n",
    "        "
   ]
  },
  {
   "cell_type": "code",
   "execution_count": null,
   "id": "cacf2814",
   "metadata": {},
   "outputs": [],
   "source": []
  }
 ],
 "metadata": {
  "kernelspec": {
   "display_name": "Python 3 (ipykernel)",
   "language": "python",
   "name": "python3"
  },
  "language_info": {
   "codemirror_mode": {
    "name": "ipython",
    "version": 3
   },
   "file_extension": ".py",
   "mimetype": "text/x-python",
   "name": "python",
   "nbconvert_exporter": "python",
   "pygments_lexer": "ipython3",
   "version": "3.11.4"
  }
 },
 "nbformat": 4,
 "nbformat_minor": 5
}
