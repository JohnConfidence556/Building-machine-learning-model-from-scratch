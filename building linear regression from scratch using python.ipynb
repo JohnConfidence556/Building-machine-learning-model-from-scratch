{
 "cells": [
  {
   "cell_type": "code",
   "execution_count": 2,
   "id": "00f1d154",
   "metadata": {},
   "outputs": [],
   "source": [
    "# importing numpy libray\n",
    "import numpy as np"
   ]
  },
  {
   "cell_type": "markdown",
   "id": "2334bc97",
   "metadata": {},
   "source": [
    "Linear Regression"
   ]
  },
  {
   "cell_type": "code",
   "execution_count": 3,
   "id": "93b83a2d",
   "metadata": {},
   "outputs": [],
   "source": [
    "class Linear_Regression:\n",
    "\n",
    "    def __init__(self, learning_rate, no_of_iterations ): \n",
    "    \n",
    "        self.learning_rate = learning_rate\n",
    "        self.no_of_iterations = no_of_iterations\n",
    "        \n",
    "        \n",
    "    def fit(self, X, Y):\n",
    "    \n",
    "        # number of training examples and number of features\n",
    "        \n",
    "        self.m, self.n = X.shape #number of rows and columns\n",
    "        \n",
    "        # initiating the weight and bias\n",
    "        \n",
    "        self.w =np.zeros(self.n)\n",
    "        self.b = 0\n",
    "        self.X = X\n",
    "        self.Y = Y\n",
    "        \n",
    "        # implementing gradient descent\n",
    "    \n",
    "        for i in range(self.no_of_iterations):\n",
    "            self.update_weights()\n",
    "    \n",
    "    def update_weights(self, ):\n",
    "        Y_prediction = self.predict(self.X)\n",
    "        \n",
    "        # calculate gradients\n",
    "        \n",
    "        dw = - (2 * (self.X.T).dot(self.Y - Y_prediction)) / self.m\n",
    "        \n",
    "        db = -2 * np.sum(self.Y -Y_prediction)/self.m\n",
    "        \n",
    "        # updating the weights\n",
    "        \n",
    "        self.w = self.w - self.learning_rate*dw\n",
    "        self.b = self.b - self.learning_rate*db\n",
    "\n",
    "        \n",
    "    def predict(self, X):\n",
    "        return X.dot(self.w) + self.b\n",
    "        "
   ]
  },
  {
   "cell_type": "markdown",
   "id": "eaba3539",
   "metadata": {},
   "source": [
    "Using Linear regression model for prediction"
   ]
  },
  {
   "cell_type": "code",
   "execution_count": 4,
   "id": "ecde169b",
   "metadata": {},
   "outputs": [],
   "source": [
    "# importing neccessary libraries\n",
    "import pandas as pd\n",
    "from sklearn.model_selection import train_test_split\n",
    "import matplotlib.pyplot as plt"
   ]
  },
  {
   "cell_type": "markdown",
   "id": "c7ae4aad",
   "metadata": {},
   "source": [
    "Data Pre-Preprocessing"
   ]
  },
  {
   "cell_type": "code",
   "execution_count": 5,
   "id": "619ddb38",
   "metadata": {},
   "outputs": [],
   "source": [
    "# loading the data from csv file to a pandas dataframe\n",
    "salary_data = pd.read_csv(r\"C:\\Users\\BRIGHT COMPUTERS\\Desktop\\machine learning projects\\building_and_implementing_linear_regression\\salary_data.csv\")"
   ]
  },
  {
   "cell_type": "code",
   "execution_count": 6,
   "id": "9e8a8d9b",
   "metadata": {},
   "outputs": [
    {
     "data": {
      "text/html": [
       "<div>\n",
       "<style scoped>\n",
       "    .dataframe tbody tr th:only-of-type {\n",
       "        vertical-align: middle;\n",
       "    }\n",
       "\n",
       "    .dataframe tbody tr th {\n",
       "        vertical-align: top;\n",
       "    }\n",
       "\n",
       "    .dataframe thead th {\n",
       "        text-align: right;\n",
       "    }\n",
       "</style>\n",
       "<table border=\"1\" class=\"dataframe\">\n",
       "  <thead>\n",
       "    <tr style=\"text-align: right;\">\n",
       "      <th></th>\n",
       "      <th>YearsExperience</th>\n",
       "      <th>Salary</th>\n",
       "    </tr>\n",
       "  </thead>\n",
       "  <tbody>\n",
       "    <tr>\n",
       "      <th>0</th>\n",
       "      <td>1.1</td>\n",
       "      <td>39343</td>\n",
       "    </tr>\n",
       "    <tr>\n",
       "      <th>1</th>\n",
       "      <td>1.3</td>\n",
       "      <td>46205</td>\n",
       "    </tr>\n",
       "    <tr>\n",
       "      <th>2</th>\n",
       "      <td>1.5</td>\n",
       "      <td>37731</td>\n",
       "    </tr>\n",
       "    <tr>\n",
       "      <th>3</th>\n",
       "      <td>2.0</td>\n",
       "      <td>43525</td>\n",
       "    </tr>\n",
       "    <tr>\n",
       "      <th>4</th>\n",
       "      <td>2.2</td>\n",
       "      <td>39891</td>\n",
       "    </tr>\n",
       "  </tbody>\n",
       "</table>\n",
       "</div>"
      ],
      "text/plain": [
       "   YearsExperience  Salary\n",
       "0              1.1   39343\n",
       "1              1.3   46205\n",
       "2              1.5   37731\n",
       "3              2.0   43525\n",
       "4              2.2   39891"
      ]
     },
     "execution_count": 6,
     "metadata": {},
     "output_type": "execute_result"
    }
   ],
   "source": [
    "# printing the first five columns of the data frame\n",
    "salary_data.head()"
   ]
  },
  {
   "cell_type": "code",
   "execution_count": 7,
   "id": "027eac8a",
   "metadata": {},
   "outputs": [
    {
     "data": {
      "text/html": [
       "<div>\n",
       "<style scoped>\n",
       "    .dataframe tbody tr th:only-of-type {\n",
       "        vertical-align: middle;\n",
       "    }\n",
       "\n",
       "    .dataframe tbody tr th {\n",
       "        vertical-align: top;\n",
       "    }\n",
       "\n",
       "    .dataframe thead th {\n",
       "        text-align: right;\n",
       "    }\n",
       "</style>\n",
       "<table border=\"1\" class=\"dataframe\">\n",
       "  <thead>\n",
       "    <tr style=\"text-align: right;\">\n",
       "      <th></th>\n",
       "      <th>YearsExperience</th>\n",
       "      <th>Salary</th>\n",
       "    </tr>\n",
       "  </thead>\n",
       "  <tbody>\n",
       "    <tr>\n",
       "      <th>25</th>\n",
       "      <td>9.0</td>\n",
       "      <td>105582</td>\n",
       "    </tr>\n",
       "    <tr>\n",
       "      <th>26</th>\n",
       "      <td>9.5</td>\n",
       "      <td>116969</td>\n",
       "    </tr>\n",
       "    <tr>\n",
       "      <th>27</th>\n",
       "      <td>9.6</td>\n",
       "      <td>112635</td>\n",
       "    </tr>\n",
       "    <tr>\n",
       "      <th>28</th>\n",
       "      <td>10.3</td>\n",
       "      <td>122391</td>\n",
       "    </tr>\n",
       "    <tr>\n",
       "      <th>29</th>\n",
       "      <td>10.5</td>\n",
       "      <td>121872</td>\n",
       "    </tr>\n",
       "  </tbody>\n",
       "</table>\n",
       "</div>"
      ],
      "text/plain": [
       "    YearsExperience  Salary\n",
       "25              9.0  105582\n",
       "26              9.5  116969\n",
       "27              9.6  112635\n",
       "28             10.3  122391\n",
       "29             10.5  121872"
      ]
     },
     "execution_count": 7,
     "metadata": {},
     "output_type": "execute_result"
    }
   ],
   "source": [
    "salary_data.tail() # print last five rows of the dataframe"
   ]
  },
  {
   "cell_type": "code",
   "execution_count": 8,
   "id": "125fd365",
   "metadata": {},
   "outputs": [
    {
     "data": {
      "text/plain": [
       "(30, 2)"
      ]
     },
     "execution_count": 8,
     "metadata": {},
     "output_type": "execute_result"
    }
   ],
   "source": [
    "# print the number of rows and columns in the dataframe\n",
    "salary_data.shape"
   ]
  },
  {
   "cell_type": "code",
   "execution_count": 9,
   "id": "b60d0711",
   "metadata": {},
   "outputs": [
    {
     "data": {
      "text/plain": [
       "YearsExperience    0\n",
       "Salary             0\n",
       "dtype: int64"
      ]
     },
     "execution_count": 9,
     "metadata": {},
     "output_type": "execute_result"
    }
   ],
   "source": [
    "# checking for missing values\n",
    "salary_data.isnull().sum()"
   ]
  },
  {
   "cell_type": "markdown",
   "id": "db26ff21",
   "metadata": {},
   "source": [
    "\n",
    "\n",
    "\n",
    "Splitting the features and target variables"
   ]
  },
  {
   "cell_type": "code",
   "execution_count": 10,
   "id": "fd394a57",
   "metadata": {},
   "outputs": [],
   "source": [
    "X = salary_data.iloc[:,:-1].values\n",
    "Y = salary_data.iloc[:,1].values"
   ]
  },
  {
   "cell_type": "code",
   "execution_count": 11,
   "id": "1ce5d384",
   "metadata": {},
   "outputs": [
    {
     "name": "stdout",
     "output_type": "stream",
     "text": [
      "[[ 1.1]\n",
      " [ 1.3]\n",
      " [ 1.5]\n",
      " [ 2. ]\n",
      " [ 2.2]\n",
      " [ 2.9]\n",
      " [ 3. ]\n",
      " [ 3.2]\n",
      " [ 3.2]\n",
      " [ 3.7]\n",
      " [ 3.9]\n",
      " [ 4. ]\n",
      " [ 4. ]\n",
      " [ 4.1]\n",
      " [ 4.5]\n",
      " [ 4.9]\n",
      " [ 5.1]\n",
      " [ 5.3]\n",
      " [ 5.9]\n",
      " [ 6. ]\n",
      " [ 6.8]\n",
      " [ 7.1]\n",
      " [ 7.9]\n",
      " [ 8.2]\n",
      " [ 8.7]\n",
      " [ 9. ]\n",
      " [ 9.5]\n",
      " [ 9.6]\n",
      " [10.3]\n",
      " [10.5]]\n"
     ]
    }
   ],
   "source": [
    "print(X)"
   ]
  },
  {
   "cell_type": "code",
   "execution_count": 12,
   "id": "e9b04890",
   "metadata": {},
   "outputs": [
    {
     "name": "stdout",
     "output_type": "stream",
     "text": [
      "[ 39343  46205  37731  43525  39891  56642  60150  54445  64445  57189\n",
      "  63218  55794  56957  57081  61111  67938  66029  83088  81363  93940\n",
      "  91738  98273 101302 113812 109431 105582 116969 112635 122391 121872]\n"
     ]
    }
   ],
   "source": [
    "print(Y)"
   ]
  },
  {
   "cell_type": "markdown",
   "id": "8818a89b",
   "metadata": {},
   "source": [
    "splitting the dataset into training and testing data"
   ]
  },
  {
   "cell_type": "code",
   "execution_count": 13,
   "id": "0314b2f8",
   "metadata": {},
   "outputs": [],
   "source": [
    "X_train, X_test, Y_train, Y_test = train_test_split(X, Y, test_size=0.33, random_state = 2)"
   ]
  },
  {
   "cell_type": "markdown",
   "id": "4d9c1af2",
   "metadata": {},
   "source": [
    "\n",
    "Training the Linear regression model"
   ]
  },
  {
   "cell_type": "code",
   "execution_count": 23,
   "id": "cccf9326",
   "metadata": {},
   "outputs": [],
   "source": [
    "model = Linear_Regression(learning_rate = 0.02, no_of_iterations=100)"
   ]
  },
  {
   "cell_type": "code",
   "execution_count": 24,
   "id": "b5b7deb5",
   "metadata": {},
   "outputs": [],
   "source": [
    "model.fit(X_train, Y_train)"
   ]
  },
  {
   "cell_type": "code",
   "execution_count": 25,
   "id": "1600c213",
   "metadata": {},
   "outputs": [
    {
     "name": "stdout",
     "output_type": "stream",
     "text": [
      "weight =  10941.258155090314\n",
      "bias =  13499.045037502532\n"
     ]
    }
   ],
   "source": [
    "# printing the parameter values (weights and bias)\n",
    "\n",
    "print('weight = ', model.w[0])\n",
    "print('bias = ', model.b)"
   ]
  },
  {
   "cell_type": "markdown",
   "id": "f11e6a69",
   "metadata": {},
   "source": [
    "Predict the salary value for the test"
   ]
  },
  {
   "cell_type": "code",
   "execution_count": 26,
   "id": "0ed3c2b2",
   "metadata": {},
   "outputs": [],
   "source": [
    "test_data_prediction = model.predict(X_test)"
   ]
  },
  {
   "cell_type": "code",
   "execution_count": 27,
   "id": "f126641d",
   "metadata": {},
   "outputs": [
    {
     "name": "stdout",
     "output_type": "stream",
     "text": [
      "[ 27722.68063912  25534.4290081   62734.70673541  53981.70021134\n",
      "  91181.97793864  79146.59396804 103217.36190924  46322.81950277\n",
      "  35381.56134768  87899.60049212]\n"
     ]
    }
   ],
   "source": [
    "print(test_data_prediction)"
   ]
  },
  {
   "cell_type": "markdown",
   "id": "f7c94385",
   "metadata": {},
   "source": [
    "visualizing the predicted values and actual values"
   ]
  },
  {
   "cell_type": "code",
   "execution_count": 28,
   "id": "17c94d7b",
   "metadata": {},
   "outputs": [
    {
     "data": {
      "image/png": "[encoded data removed]",
      "text/plain": [
       "<Figure size 640x480 with 1 Axes>"
      ]
     },
     "metadata": {},
     "output_type": "display_data"
    }
   ],
   "source": [
    "plt.scatter(X_test, Y_test, color='red')\n",
    "plt.plot(X_test, test_data_prediction, color='blue')\n",
    "plt.xlabel('work experience')\n",
    "plt.ylabel('Salary')\n",
    "plt.title('work experience')\n",
    "plt.show()"
   ]
  },
  {
   "cell_type": "code",
   "execution_count": null,
   "id": "d2624b34",
   "metadata": {},
   "outputs": [],
   "source": []
  }
 ],
 "metadata": {
  "kernelspec": {
   "display_name": "Python 3 (ipykernel)",
   "language": "python",
   "name": "python3"
  },
  "language_info": {
   "codemirror_mode": {
    "name": "ipython",
    "version": 3
   },
   "file_extension": ".py",
   "mimetype": "text/x-python",
   "name": "python",
   "nbconvert_exporter": "python",
   "pygments_lexer": "ipython3",
   "version": "3.11.4"
  }
 },
 "nbformat": 4,
 "nbformat_minor": 5
}
